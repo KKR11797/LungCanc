{
 "cells": [
  {
   "cell_type": "code",
   "execution_count": 8,
   "metadata": {},
   "outputs": [
    {
     "name": "stdout",
     "output_type": "stream",
     "text": [
      "No. of training images: 2155\n",
      "No. of testing images: 472\n",
      "Training Array shape : (2155, 128, 128, 3)\n",
      "Testing Array shape : (472, 128, 128, 3)\n"
     ]
    }
   ],
   "source": [
    "import numpy\n",
    "#import keras\n",
    "from tensorflow import keras\n",
    "import os\n",
    "\n",
    "train_dir = os.listdir(\"H:/Project Data/manifest-1600709154662/data/train\")\n",
    "test_dir = os.listdir(\"H:/Project Data/manifest-1600709154662/data/test\")\n",
    "\n",
    "print(\"No. of training images:\", len(train_dir))\n",
    "print(\"No. of testing images:\", len(test_dir))\n",
    "\n",
    "dataset_train = []\n",
    "img_size = 128\n",
    "for train_images in train_dir:\n",
    "    if train_images.endswith(\".png\"):\n",
    "        train = os.path.join(\"H:/Project Data/manifest-1600709154662/data/train\", train_images)\n",
    "        img = keras.preprocessing.image.load_img(train, target_size = (img_size,img_size))\n",
    "        img_array = keras.preprocessing.image.img_to_array(img)\n",
    "        \n",
    "        img_array = img_array/255.0\n",
    "        dataset_train.append(img_array)\n",
    "        #f.close()\n",
    "        \n",
    "dataset_train = numpy.array(dataset_train)\n",
    "print(\"Training Array shape :\", dataset_train.shape)\n",
    "\n",
    "dataset_test = []\n",
    "\n",
    "for test_images in test_dir:\n",
    "    if test_images.endswith(\".png\"):\n",
    "        #image_test_dir = os.path.join(test_dir,test_images)\n",
    "        test = os.path.join(\"H:/Project Data/manifest-1600709154662/data/test\", test_images)\n",
    "        img = keras.preprocessing.image.load_img(test, target_size = (img_size,img_size))\n",
    "        img_array = keras.preprocessing.image.img_to_array(img)\n",
    "        \n",
    "        img_array = img_array/255.0\n",
    "        dataset_test.append(img_array)\n",
    "        \n",
    "dataset_test = numpy.array(dataset_test)\n",
    "print(\"Testing Array shape :\", dataset_test.shape)\n",
    "\n",
    "#print(\"No. in train\",len(images_in_train),\"No. in test\",len(images_in_test))"
   ]
  },
  {
   "cell_type": "code",
   "execution_count": 9,
   "metadata": {},
   "outputs": [
    {
     "name": "stdout",
     "output_type": "stream",
     "text": [
      "   nodule_idx  nodule_number      patient_id  scan_id  patient_number  \\\n",
      "0         101            1.0  LIDC-IDRI-0001       12               1   \n",
      "1         201            1.0  LIDC-IDRI-0002       13               2   \n",
      "2         301            1.0  LIDC-IDRI-0003       14               3   \n",
      "3         302            2.0  LIDC-IDRI-0003       14               3   \n",
      "4         303            3.0  LIDC-IDRI-0003       14               3   \n",
      "\n",
      "   spiculation_median  spiculation_mean  spiculation_min  spiculation_max  \\\n",
      "0                 4.5              4.25                3                5   \n",
      "1                 1.0              1.00                1                1   \n",
      "2                 1.0              1.00                1                1   \n",
      "3                 2.5              3.00                2                5   \n",
      "4                 1.5              1.50                1                2   \n",
      "\n",
      "   spiculation_var  n_annotations_count  label   id  split    out_name  \\\n",
      "0         0.916667                    4      1  101  train  000101.png   \n",
      "1         0.000000                    2      0  201  train  000201.png   \n",
      "2              NaN                    1      0  301  train  000301.png   \n",
      "3         2.000000                    4      1  302  train  000302.png   \n",
      "4         0.333333                    4      0  303  train  000303.png   \n",
      "\n",
      "            out_dir                                          orig_path  \n",
      "0  train\\000101.png  H:/Project Data/manifest-1600709154662/data/no...  \n",
      "1  train\\000201.png  H:/Project Data/manifest-1600709154662/data/no...  \n",
      "2  train\\000301.png  H:/Project Data/manifest-1600709154662/data/no...  \n",
      "3  train\\000302.png  H:/Project Data/manifest-1600709154662/data/no...  \n",
      "4  train\\000303.png  H:/Project Data/manifest-1600709154662/data/no...  \n"
     ]
    },
    {
     "data": {
      "text/plain": [
       "nodule_idx               int64\n",
       "nodule_number          float64\n",
       "patient_id              object\n",
       "scan_id                  int64\n",
       "patient_number           int64\n",
       "spiculation_median     float64\n",
       "spiculation_mean       float64\n",
       "spiculation_min          int64\n",
       "spiculation_max          int64\n",
       "spiculation_var        float64\n",
       "n_annotations_count      int64\n",
       "label                    int64\n",
       "id                       int64\n",
       "split                   object\n",
       "out_name                object\n",
       "out_dir                 object\n",
       "orig_path               object\n",
       "dtype: object"
      ]
     },
     "execution_count": 9,
     "metadata": {},
     "output_type": "execute_result"
    }
   ],
   "source": [
    "import pandas as pd\n",
    "label = pd.read_csv(\"H:/Project Data/manifest-1600709154662/data/labels.csv\")\n",
    "print(label.head())\n",
    "label.dtypes"
   ]
  },
  {
   "cell_type": "code",
   "execution_count": 22,
   "metadata": {},
   "outputs": [],
   "source": [
    "#label_clean = label.pop([\"nodule_idx\",\"patient_id\",\"scan_id\",\"patient_number\",\"id\",\"out_name\",\"out_dir\",\"orig_path\"])"
   ]
  },
  {
   "cell_type": "code",
   "execution_count": 10,
   "metadata": {},
   "outputs": [
    {
     "name": "stdout",
     "output_type": "stream",
     "text": [
      "   nodule_number  spiculation_median  spiculation_mean  spiculation_min  \\\n",
      "0            1.0                 4.5              4.25                3   \n",
      "1            1.0                 1.0              1.00                1   \n",
      "2            1.0                 1.0              1.00                1   \n",
      "3            2.0                 2.5              3.00                2   \n",
      "4            3.0                 1.5              1.50                1   \n",
      "\n",
      "   spiculation_max  spiculation_var  n_annotations_count  label  \n",
      "0                5         0.916667                    4      1  \n",
      "1                1         0.000000                    2      0  \n",
      "2                1              NaN                    1      0  \n",
      "3                5         2.000000                    4      1  \n",
      "4                2         0.333333                    4      0  \n",
      "(2172, 8)\n"
     ]
    }
   ],
   "source": [
    "label_train = label[label['split'] == \"train\"]\n",
    "label_feature_name = ['nodule_number','spiculation_median','spiculation_mean','spiculation_min','spiculation_max','spiculation_var','n_annotations_count','label']\n",
    "label_train_clean = label_train[label_feature_name]\n",
    "print(label_train_clean.head())\n",
    "print(label_train_clean.shape)"
   ]
  },
  {
   "cell_type": "code",
   "execution_count": 11,
   "metadata": {},
   "outputs": [
    {
     "name": "stdout",
     "output_type": "stream",
     "text": [
      "    nodule_number  spiculation_median  spiculation_mean  spiculation_min  \\\n",
      "5             4.0                 1.0               1.0                1   \n",
      "13            4.0                 1.5               2.0                1   \n",
      "21            2.0                 1.0               1.0                1   \n",
      "24            2.0                 1.0               1.0                1   \n",
      "30            8.0                 1.0               1.0                1   \n",
      "\n",
      "    spiculation_max  spiculation_var  n_annotations_count  label  \n",
      "5                 1              0.0                    4      0  \n",
      "13                4              2.0                    4      1  \n",
      "21                1              0.0                    2      0  \n",
      "24                1              0.0                    2      0  \n",
      "30                1              NaN                    1      0  \n",
      "(476, 8)\n"
     ]
    }
   ],
   "source": [
    "label_test = label[label['split'] == \"test\"]\n",
    "label_test_clean = label_test[label_feature_name]\n",
    "print(label_test_clean.head())\n",
    "print(label_test_clean.shape)"
   ]
  },
  {
   "cell_type": "code",
   "execution_count": 15,
   "metadata": {},
   "outputs": [
    {
     "name": "stdout",
     "output_type": "stream",
     "text": [
      "(1, 2172, 8)\n"
     ]
    }
   ],
   "source": [
    "dataset_train_labels = []\n",
    "dataset_train_labels.append(label_train_clean)\n",
    "dataset_train_labels = numpy.array(dataset_train_labels)\n",
    "numpy.save(\"dataset_train.npy\",dataset_train)\n",
    "numpy.save(\"dataset_train_labels.npy\",dataset_train_labels)\n",
    "print(dataset_train_labels.shape)"
   ]
  },
  {
   "cell_type": "code",
   "execution_count": 16,
   "metadata": {},
   "outputs": [
    {
     "name": "stdout",
     "output_type": "stream",
     "text": [
      "(1, 476, 8)\n"
     ]
    }
   ],
   "source": [
    "dataset_test_labels = []\n",
    "dataset_test_labels.append(label_test_clean)\n",
    "dataset_test_labels = numpy.array(dataset_test_labels)\n",
    "numpy.save(\"dataset_test.npy\",dataset_test)\n",
    "numpy.save(\"dataset_test_labels.npy\",dataset_test_labels)\n",
    "print(dataset_test_labels.shape)"
   ]
  },
  {
   "cell_type": "code",
   "execution_count": 32,
   "metadata": {},
   "outputs": [
    {
     "name": "stdout",
     "output_type": "stream",
     "text": [
      "Found 2155 images belonging to 1 classes.\n"
     ]
    }
   ],
   "source": [
    "import tensorflow as tf\n",
    "\n",
    "train_datagen = keras.preprocessing.image.ImageDataGenerator()\n",
    "train_generator = train_datagen.flow_from_directory(directory = \"H:/Project Data/manifest-1600709154662/data/traindatagen\", target_size = (img_size,img_size), batch_size = 32)"
   ]
  },
  {
   "cell_type": "code",
   "execution_count": 33,
   "metadata": {},
   "outputs": [
    {
     "name": "stdout",
     "output_type": "stream",
     "text": [
      "Found 472 images belonging to 1 classes.\n"
     ]
    }
   ],
   "source": [
    "test_datagen = keras.preprocessing.image.ImageDataGenerator()\n",
    "test_generator = test_datagen.flow_from_directory(directory = \"H:/Project Data/manifest-1600709154662/data/testdatagen\", target_size = (img_size,img_size),batch_size = 32)"
   ]
  },
  {
   "cell_type": "code",
   "execution_count": 25,
   "metadata": {},
   "outputs": [
    {
     "name": "stdout",
     "output_type": "stream",
     "text": [
      "Downloading data from https://github.com/fchollet/deep-learning-models/releases/download/v0.6/mobilenet_1_0_224_tf.h5\n",
      "17227776/17225924 [==============================] - 17s 1us/step\n",
      "Model: \"mobilenet_1.00_224\"\n",
      "_________________________________________________________________\n",
      "Layer (type)                 Output Shape              Param #   \n",
      "=================================================================\n",
      "input_1 (InputLayer)         [(None, 224, 224, 3)]     0         \n",
      "_________________________________________________________________\n",
      "conv1_pad (ZeroPadding2D)    (None, 225, 225, 3)       0         \n",
      "_________________________________________________________________\n",
      "conv1 (Conv2D)               (None, 112, 112, 32)      864       \n",
      "_________________________________________________________________\n",
      "conv1_bn (BatchNormalization (None, 112, 112, 32)      128       \n",
      "_________________________________________________________________\n",
      "conv1_relu (ReLU)            (None, 112, 112, 32)      0         \n",
      "_________________________________________________________________\n",
      "conv_dw_1 (DepthwiseConv2D)  (None, 112, 112, 32)      288       \n",
      "_________________________________________________________________\n",
      "conv_dw_1_bn (BatchNormaliza (None, 112, 112, 32)      128       \n",
      "_________________________________________________________________\n",
      "conv_dw_1_relu (ReLU)        (None, 112, 112, 32)      0         \n",
      "_________________________________________________________________\n",
      "conv_pw_1 (Conv2D)           (None, 112, 112, 64)      2048      \n",
      "_________________________________________________________________\n",
      "conv_pw_1_bn (BatchNormaliza (None, 112, 112, 64)      256       \n",
      "_________________________________________________________________\n",
      "conv_pw_1_relu (ReLU)        (None, 112, 112, 64)      0         \n",
      "_________________________________________________________________\n",
      "conv_pad_2 (ZeroPadding2D)   (None, 113, 113, 64)      0         \n",
      "_________________________________________________________________\n",
      "conv_dw_2 (DepthwiseConv2D)  (None, 56, 56, 64)        576       \n",
      "_________________________________________________________________\n",
      "conv_dw_2_bn (BatchNormaliza (None, 56, 56, 64)        256       \n",
      "_________________________________________________________________\n",
      "conv_dw_2_relu (ReLU)        (None, 56, 56, 64)        0         \n",
      "_________________________________________________________________\n",
      "conv_pw_2 (Conv2D)           (None, 56, 56, 128)       8192      \n",
      "_________________________________________________________________\n",
      "conv_pw_2_bn (BatchNormaliza (None, 56, 56, 128)       512       \n",
      "_________________________________________________________________\n",
      "conv_pw_2_relu (ReLU)        (None, 56, 56, 128)       0         \n",
      "_________________________________________________________________\n",
      "conv_dw_3 (DepthwiseConv2D)  (None, 56, 56, 128)       1152      \n",
      "_________________________________________________________________\n",
      "conv_dw_3_bn (BatchNormaliza (None, 56, 56, 128)       512       \n",
      "_________________________________________________________________\n",
      "conv_dw_3_relu (ReLU)        (None, 56, 56, 128)       0         \n",
      "_________________________________________________________________\n",
      "conv_pw_3 (Conv2D)           (None, 56, 56, 128)       16384     \n",
      "_________________________________________________________________\n",
      "conv_pw_3_bn (BatchNormaliza (None, 56, 56, 128)       512       \n",
      "_________________________________________________________________\n",
      "conv_pw_3_relu (ReLU)        (None, 56, 56, 128)       0         \n",
      "_________________________________________________________________\n",
      "conv_pad_4 (ZeroPadding2D)   (None, 57, 57, 128)       0         \n",
      "_________________________________________________________________\n",
      "conv_dw_4 (DepthwiseConv2D)  (None, 28, 28, 128)       1152      \n",
      "_________________________________________________________________\n",
      "conv_dw_4_bn (BatchNormaliza (None, 28, 28, 128)       512       \n",
      "_________________________________________________________________\n",
      "conv_dw_4_relu (ReLU)        (None, 28, 28, 128)       0         \n",
      "_________________________________________________________________\n",
      "conv_pw_4 (Conv2D)           (None, 28, 28, 256)       32768     \n",
      "_________________________________________________________________\n",
      "conv_pw_4_bn (BatchNormaliza (None, 28, 28, 256)       1024      \n",
      "_________________________________________________________________\n",
      "conv_pw_4_relu (ReLU)        (None, 28, 28, 256)       0         \n",
      "_________________________________________________________________\n",
      "conv_dw_5 (DepthwiseConv2D)  (None, 28, 28, 256)       2304      \n",
      "_________________________________________________________________\n",
      "conv_dw_5_bn (BatchNormaliza (None, 28, 28, 256)       1024      \n",
      "_________________________________________________________________\n",
      "conv_dw_5_relu (ReLU)        (None, 28, 28, 256)       0         \n",
      "_________________________________________________________________\n",
      "conv_pw_5 (Conv2D)           (None, 28, 28, 256)       65536     \n",
      "_________________________________________________________________\n",
      "conv_pw_5_bn (BatchNormaliza (None, 28, 28, 256)       1024      \n",
      "_________________________________________________________________\n",
      "conv_pw_5_relu (ReLU)        (None, 28, 28, 256)       0         \n",
      "_________________________________________________________________\n",
      "conv_pad_6 (ZeroPadding2D)   (None, 29, 29, 256)       0         \n",
      "_________________________________________________________________\n",
      "conv_dw_6 (DepthwiseConv2D)  (None, 14, 14, 256)       2304      \n",
      "_________________________________________________________________\n",
      "conv_dw_6_bn (BatchNormaliza (None, 14, 14, 256)       1024      \n",
      "_________________________________________________________________\n",
      "conv_dw_6_relu (ReLU)        (None, 14, 14, 256)       0         \n",
      "_________________________________________________________________\n",
      "conv_pw_6 (Conv2D)           (None, 14, 14, 512)       131072    \n",
      "_________________________________________________________________\n",
      "conv_pw_6_bn (BatchNormaliza (None, 14, 14, 512)       2048      \n",
      "_________________________________________________________________\n",
      "conv_pw_6_relu (ReLU)        (None, 14, 14, 512)       0         \n",
      "_________________________________________________________________\n",
      "conv_dw_7 (DepthwiseConv2D)  (None, 14, 14, 512)       4608      \n",
      "_________________________________________________________________\n",
      "conv_dw_7_bn (BatchNormaliza (None, 14, 14, 512)       2048      \n",
      "_________________________________________________________________\n",
      "conv_dw_7_relu (ReLU)        (None, 14, 14, 512)       0         \n",
      "_________________________________________________________________\n",
      "conv_pw_7 (Conv2D)           (None, 14, 14, 512)       262144    \n",
      "_________________________________________________________________\n",
      "conv_pw_7_bn (BatchNormaliza (None, 14, 14, 512)       2048      \n",
      "_________________________________________________________________\n",
      "conv_pw_7_relu (ReLU)        (None, 14, 14, 512)       0         \n",
      "_________________________________________________________________\n",
      "conv_dw_8 (DepthwiseConv2D)  (None, 14, 14, 512)       4608      \n",
      "_________________________________________________________________\n",
      "conv_dw_8_bn (BatchNormaliza (None, 14, 14, 512)       2048      \n",
      "_________________________________________________________________\n",
      "conv_dw_8_relu (ReLU)        (None, 14, 14, 512)       0         \n",
      "_________________________________________________________________\n",
      "conv_pw_8 (Conv2D)           (None, 14, 14, 512)       262144    \n",
      "_________________________________________________________________\n",
      "conv_pw_8_bn (BatchNormaliza (None, 14, 14, 512)       2048      \n",
      "_________________________________________________________________\n",
      "conv_pw_8_relu (ReLU)        (None, 14, 14, 512)       0         \n",
      "_________________________________________________________________\n",
      "conv_dw_9 (DepthwiseConv2D)  (None, 14, 14, 512)       4608      \n",
      "_________________________________________________________________\n",
      "conv_dw_9_bn (BatchNormaliza (None, 14, 14, 512)       2048      \n",
      "_________________________________________________________________\n",
      "conv_dw_9_relu (ReLU)        (None, 14, 14, 512)       0         \n",
      "_________________________________________________________________\n",
      "conv_pw_9 (Conv2D)           (None, 14, 14, 512)       262144    \n",
      "_________________________________________________________________\n",
      "conv_pw_9_bn (BatchNormaliza (None, 14, 14, 512)       2048      \n",
      "_________________________________________________________________\n",
      "conv_pw_9_relu (ReLU)        (None, 14, 14, 512)       0         \n",
      "_________________________________________________________________\n",
      "conv_dw_10 (DepthwiseConv2D) (None, 14, 14, 512)       4608      \n",
      "_________________________________________________________________\n",
      "conv_dw_10_bn (BatchNormaliz (None, 14, 14, 512)       2048      \n",
      "_________________________________________________________________\n",
      "conv_dw_10_relu (ReLU)       (None, 14, 14, 512)       0         \n",
      "_________________________________________________________________\n",
      "conv_pw_10 (Conv2D)          (None, 14, 14, 512)       262144    \n",
      "_________________________________________________________________\n",
      "conv_pw_10_bn (BatchNormaliz (None, 14, 14, 512)       2048      \n",
      "_________________________________________________________________\n",
      "conv_pw_10_relu (ReLU)       (None, 14, 14, 512)       0         \n",
      "_________________________________________________________________\n",
      "conv_dw_11 (DepthwiseConv2D) (None, 14, 14, 512)       4608      \n",
      "_________________________________________________________________\n",
      "conv_dw_11_bn (BatchNormaliz (None, 14, 14, 512)       2048      \n",
      "_________________________________________________________________\n",
      "conv_dw_11_relu (ReLU)       (None, 14, 14, 512)       0         \n",
      "_________________________________________________________________\n",
      "conv_pw_11 (Conv2D)          (None, 14, 14, 512)       262144    \n",
      "_________________________________________________________________\n",
      "conv_pw_11_bn (BatchNormaliz (None, 14, 14, 512)       2048      \n",
      "_________________________________________________________________\n",
      "conv_pw_11_relu (ReLU)       (None, 14, 14, 512)       0         \n",
      "_________________________________________________________________\n",
      "conv_pad_12 (ZeroPadding2D)  (None, 15, 15, 512)       0         \n",
      "_________________________________________________________________\n",
      "conv_dw_12 (DepthwiseConv2D) (None, 7, 7, 512)         4608      \n",
      "_________________________________________________________________\n",
      "conv_dw_12_bn (BatchNormaliz (None, 7, 7, 512)         2048      \n",
      "_________________________________________________________________\n",
      "conv_dw_12_relu (ReLU)       (None, 7, 7, 512)         0         \n",
      "_________________________________________________________________\n",
      "conv_pw_12 (Conv2D)          (None, 7, 7, 1024)        524288    \n",
      "_________________________________________________________________\n",
      "conv_pw_12_bn (BatchNormaliz (None, 7, 7, 1024)        4096      \n",
      "_________________________________________________________________\n",
      "conv_pw_12_relu (ReLU)       (None, 7, 7, 1024)        0         \n",
      "_________________________________________________________________\n",
      "conv_dw_13 (DepthwiseConv2D) (None, 7, 7, 1024)        9216      \n",
      "_________________________________________________________________\n",
      "conv_dw_13_bn (BatchNormaliz (None, 7, 7, 1024)        4096      \n",
      "_________________________________________________________________\n",
      "conv_dw_13_relu (ReLU)       (None, 7, 7, 1024)        0         \n",
      "_________________________________________________________________\n",
      "conv_pw_13 (Conv2D)          (None, 7, 7, 1024)        1048576   \n",
      "_________________________________________________________________\n",
      "conv_pw_13_bn (BatchNormaliz (None, 7, 7, 1024)        4096      \n",
      "_________________________________________________________________\n",
      "conv_pw_13_relu (ReLU)       (None, 7, 7, 1024)        0         \n",
      "_________________________________________________________________\n",
      "global_average_pooling2d (Gl (None, 1024)              0         \n",
      "_________________________________________________________________\n",
      "reshape_1 (Reshape)          (None, 1, 1, 1024)        0         \n",
      "_________________________________________________________________\n",
      "dropout (Dropout)            (None, 1, 1, 1024)        0         \n",
      "_________________________________________________________________\n",
      "conv_preds (Conv2D)          (None, 1, 1, 1000)        1025000   \n",
      "_________________________________________________________________\n",
      "reshape_2 (Reshape)          (None, 1000)              0         \n",
      "_________________________________________________________________\n",
      "act_softmax (Activation)     (None, 1000)              0         \n",
      "=================================================================\n",
      "Total params: 4,253,864\n",
      "Trainable params: 4,231,976\n",
      "Non-trainable params: 21,888\n",
      "_________________________________________________________________\n"
     ]
    }
   ],
   "source": [
    "base_model = tf.keras.applications.MobileNet()\n",
    "base_model.summary()"
   ]
  },
  {
   "cell_type": "code",
   "execution_count": 31,
   "metadata": {},
   "outputs": [
    {
     "name": "stdout",
     "output_type": "stream",
     "text": [
      "Model: \"sequential_1\"\n",
      "_________________________________________________________________\n",
      "Layer (type)                 Output Shape              Param #   \n",
      "=================================================================\n",
      "mobilenet_1.00_128 (Model)   (None, 4, 4, 1024)        3228864   \n",
      "_________________________________________________________________\n",
      "global_average_pooling2d_2 ( (None, 1024)              0         \n",
      "_________________________________________________________________\n",
      "dense_1 (Dense)              (None, 2155)              2208875   \n",
      "=================================================================\n",
      "Total params: 5,437,739\n",
      "Trainable params: 2,208,875\n",
      "Non-trainable params: 3,228,864\n",
      "_________________________________________________________________\n"
     ]
    }
   ],
   "source": [
    "base_model = tf.keras.applications.MobileNet(input_shape = (128,128,3), include_top = False)\n",
    "base_model.trainable = False\n",
    "\n",
    "base_model = tf.keras.Sequential([\n",
    "    base_model,\n",
    "    keras.layers.GlobalAveragePooling2D(),\n",
    "    keras.layers.Dense(2155,activation = 'sigmoid')\n",
    "])\n",
    "\n",
    "base_model.summary()\n",
    "\n",
    "base_model.compile(optimizer = tf.keras.optimizers.RMSprop(lr=0.0001),\n",
    "                  loss = 'binary_crossentropy',\n",
    "                  metrics=['accuracy'])"
   ]
  },
  {
   "cell_type": "code",
   "execution_count": 37,
   "metadata": {},
   "outputs": [
    {
     "name": "stdout",
     "output_type": "stream",
     "text": [
      "WARNING:tensorflow:sample_weight modes were coerced from\n",
      "  ...\n",
      "    to  \n",
      "  ['...']\n",
      "WARNING:tensorflow:sample_weight modes were coerced from\n",
      "  ...\n",
      "    to  \n",
      "  ['...']\n",
      "Train for 68.0 steps, validate for 15.0 steps\n",
      "Epoch 1/10\n",
      "68/68 [==============================] - 62s 905ms/step - loss: 0.0893 - accuracy: 0.9969 - val_loss: 0.0793 - val_accuracy: 0.9998\n",
      "Epoch 2/10\n",
      "68/68 [==============================] - 54s 791ms/step - loss: 0.0075 - accuracy: 1.0000 - val_loss: 0.0183 - val_accuracy: 1.0000\n",
      "Epoch 3/10\n",
      "68/68 [==============================] - 59s 864ms/step - loss: 7.9865e-04 - accuracy: 1.0000 - val_loss: 0.0054 - val_accuracy: 1.0000\n",
      "Epoch 4/10\n",
      "68/68 [==============================] - 64s 945ms/step - loss: 1.5871e-04 - accuracy: 1.0000 - val_loss: 0.0027 - val_accuracy: 1.0000\n",
      "Epoch 5/10\n",
      "68/68 [==============================] - 59s 871ms/step - loss: 6.6895e-05 - accuracy: 1.0000 - val_loss: 0.0018 - val_accuracy: 1.0000\n",
      "Epoch 6/10\n",
      "68/68 [==============================] - 71s 1s/step - loss: 4.0555e-05 - accuracy: 1.0000 - val_loss: 0.0014 - val_accuracy: 1.0000\n",
      "Epoch 7/10\n",
      "68/68 [==============================] - 60s 884ms/step - loss: 2.8801e-05 - accuracy: 1.0000 - val_loss: 0.0011 - val_accuracy: 1.0000\n",
      "Epoch 8/10\n",
      "68/68 [==============================] - 59s 874ms/step - loss: 2.2235e-05 - accuracy: 1.0000 - val_loss: 9.8277e-04 - val_accuracy: 1.0000\n",
      "Epoch 9/10\n",
      "68/68 [==============================] - 71s 1s/step - loss: 1.8085e-05 - accuracy: 1.0000 - val_loss: 8.6960e-04 - val_accuracy: 1.0000\n",
      "Epoch 10/10\n",
      "68/68 [==============================] - 60s 882ms/step - loss: 1.5219e-05 - accuracy: 1.0000 - val_loss: 7.8384e-04 - val_accuracy: 1.0000\n"
     ]
    }
   ],
   "source": [
    "from tensorflow.keras.callbacks import TensorBoard\n",
    "\n",
    "epochs = 10\n",
    "batch_size = 32\n",
    "steps_per_epoch = numpy.ceil(train_generator.n/batch_size)\n",
    "validation_steps = numpy.ceil(test_generator.n/batch_size)\n",
    "\n",
    "NAME = \"TransferL\"\n",
    "\n",
    "tboard_log_dir = os.path.join(\"logs\",NAME)\n",
    "tensorboard = TensorBoard(log_dir = tboard_log_dir)\n",
    "\n",
    "history = base_model.fit_generator(generator = train_generator,\n",
    "                                  steps_per_epoch = steps_per_epoch,\n",
    "                                  epochs = epochs,\n",
    "                                  validation_data=test_generator,\n",
    "                                  validation_steps = validation_steps,callbacks = [tensorboard])\n",
    "\n",
    "base_model.save('LungCanc_TransferLearning.h5')"
   ]
  },
  {
   "cell_type": "code",
   "execution_count": 42,
   "metadata": {},
   "outputs": [
    {
     "name": "stdout",
     "output_type": "stream",
     "text": [
      "Failed to import pydot. You must install pydot and graphviz for `pydotprint` to work.\n"
     ]
    }
   ],
   "source": []
  }
 ],
 "metadata": {
  "kernelspec": {
   "display_name": "Python 3",
   "language": "python",
   "name": "python3"
  },
  "language_info": {
   "codemirror_mode": {
    "name": "ipython",
    "version": 3
   },
   "file_extension": ".py",
   "mimetype": "text/x-python",
   "name": "python",
   "nbconvert_exporter": "python",
   "pygments_lexer": "ipython3",
   "version": "3.7.7"
  }
 },
 "nbformat": 4,
 "nbformat_minor": 4
}
